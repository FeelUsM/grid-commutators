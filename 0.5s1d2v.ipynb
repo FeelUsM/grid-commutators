{
 "cells": [
  {
   "cell_type": "code",
   "execution_count": 2,
   "id": "4db1d23b",
   "metadata": {},
   "outputs": [],
   "source": [
    "import form\n",
    "import re\n",
    "f = form.open(\"form -l\",keep_log=100)"
   ]
  },
  {
   "cell_type": "code",
   "execution_count": 3,
   "id": "a73a9123",
   "metadata": {},
   "outputs": [
    {
     "name": "stdout",
     "output_type": "stream",
     "text": [
      "id ifmatch->endarg cx(i?)*sx(i?) =  1 * 1   ;\n",
      "id ifmatch->endarg cx(i?)*sy(i?) =  i_*cz(i);\n",
      "id ifmatch->endarg cx(i?)*sz(i?) = -i_*cy(i);\n",
      "id ifmatch->endarg cy(i?)*sx(i?) = -i_*cz(i);\n",
      "id ifmatch->endarg cy(i?)*sy(i?) =  1 * 1   ;\n",
      "id ifmatch->endarg cy(i?)*sz(i?) =  i_*cx(i);\n",
      "id ifmatch->endarg cz(i?)*sx(i?) =  i_*cy(i);\n",
      "id ifmatch->endarg cz(i?)*sy(i?) = -i_*cx(i);\n",
      "id ifmatch->endarg cz(i?)*sz(i?) =  1 * 1   ;\n"
     ]
    }
   ],
   "source": [
    "k = [[\" 1 \", \" 1 \", \" 1 \", \" 1 \"], \n",
    "     [\" 1 \", \" 1 \", \" i_\", \"-i_\"], \n",
    "     [\" 1 \", \"-i_\", \" 1 \", \" i_\"], \n",
    "     [\" 1 \", \" i_\", \"-i_\", \" 1 \"]]\n",
    "\n",
    "\n",
    "n = [[\" 1   \", \"cx(i)\", \"cy(i)\", \"cz(i)\"], \n",
    "     [\"cx(i)\", \" 1   \", \"cz(i)\", \"cy(i)\"], \n",
    "     [\"cy(i)\", \"cz(i)\", \" 1   \", \"cx(i)\"], \n",
    "     [\"cz(i)\", \"cy(i)\", \"cx(i)\", \" 1   \"]]\n",
    "\n",
    "c = [\"1\",\"cx\",\"cy\",\"cz\"]\n",
    "s = [\"1\",\"sx\",\"sy\",\"sz\"]\n",
    "rules = '\\n'.join('id ifmatch->endarg '+c[i]+'(i?)*'+s[j]+'(i?) = '+k[i][j]+'*'+str(n[j][i])+';' \n",
    "       for i in range(1,4) for j in range(1,4))\n",
    "#for i in range(4):\n",
    "#    print()\n",
    "#    for j in range(4):\n",
    "#        print('id m'+str(i)+'*m'+str(j)+' = '\\\n",
    "#              +k[i][j]+'*'+str(n[j][i])+';')\n",
    "print(rules)"
   ]
  },
  {
   "cell_type": "code",
   "execution_count": 8,
   "id": "46406ab7",
   "metadata": {},
   "outputs": [
    {
     "name": "stdout",
     "output_type": "stream",
     "text": [
      "Comm(cx(1)*cx(2),cy(1)*cy(3))*koef(1)\n",
      "+Comm(cx(1)*cx(2),cy(2)*cy(4))*koef(1)\n",
      "+Comm(cx(2)*cx(3),cy(1)*cy(3))*koef(1)\n",
      "+Comm(cx(3)*cx(4),cy(1)*cy(3))*koef(1)\n",
      "3\n"
     ]
    }
   ],
   "source": [
    "f.close()\n",
    "f = form.open(\"form -l\",keep_log=100)\n",
    "f.write('''\n",
    "on stats;\n",
    "cfun   cx,cy,cz,cc; *cten\n",
    "set CC:cx,cy,cz;\n",
    "nfun   sx,sy,sz,sc;\n",
    "set SC:sx,sy,sz;\n",
    "\n",
    "Function S,Comm;\n",
    "cfun koef;\n",
    "polyfun koef;\n",
    "\n",
    "auto Symbols a,b,t;\n",
    "auto Symbol n,i,j,k; * indices\n",
    "\n",
    "Local C = Comm(cx(1)*cx(2),cy(1)*cy(3));\n",
    "\n",
    "\n",
    "*--- overlapping ---\n",
    "argument Comm;\n",
    "    multiply S(1,1);\n",
    "    repeat id S(k?,t?)*cc?CC(i?) = S(max_(k,i),t*cc(i));\n",
    "endargument;\n",
    "id Comm(S(k1?$k1max,t1?),S(k2?$k2max,t2?)) = Comm(S(k1,t1),S(k2,t2));\n",
    "$kmax = max_($k1max,$k2max);\n",
    "id Comm(S(n1?,a1?),S(n2?,a2?)) = Comm(a1,a2) + \n",
    "    sum_(i,1,n2-1,Comm(S(i,1)*a1,a2)) +\n",
    "    sum_(i,1,n1-1,Comm(a1,S(i,1)*a2));\n",
    "argument Comm;\n",
    "    repeat id S(i?,t?)*cc?CC(j?) = S(i,t*cc(i+j));\n",
    "    id S(i?,a?) = a;\n",
    "endargument;\n",
    "\n",
    "\n",
    "Print;\n",
    ".sort\n",
    "''')\n",
    "print(re.sub(r'\\+','\\n+',f.read('C')))\n",
    "print(re.sub(r'\\+','\\n+',f.read('$kmax')))\n",
    "#f.read('C')"
   ]
  },
  {
   "cell_type": "code",
   "execution_count": 10,
   "id": "369773fe",
   "metadata": {},
   "outputs": [
    {
     "name": "stdout",
     "output_type": "stream",
     "text": [
      "cx(1)*cy(4)*cz(2)*i_*koef(2)\n",
      "+cx(2)*cy(1)*cz(3)*i_*koef(2)\n",
      "+cx(2)*cy(3)*cz(1)*i_*koef(2)\n",
      "+cx(4)*cy(1)*cz(3)*i_*koef(2)\n"
     ]
    }
   ],
   "source": [
    "f.close()\n",
    "f = form.open(\"form -l\",keep_log=100)\n",
    "f.write('''\n",
    "on stats;\n",
    "cfun   cx,cy,cz,cc; *cten\n",
    "set CC:cx,cy,cz;\n",
    "nfun   sx,sy,sz,sc;\n",
    "set SC:sx,sy,sz;\n",
    "\n",
    "Function S,Comm;\n",
    "cfun koef;\n",
    "polyfun koef;\n",
    "\n",
    "auto Symbols a,b,t;\n",
    "auto Symbol n,i,j,k; * indices\n",
    "\n",
    "Local C = Comm(cx(1)*cx(2),cy(1)*cy(3));\n",
    "\n",
    "*--- overlapping ---\n",
    "argument Comm;\n",
    "    multiply S(1,1);\n",
    "    repeat id S(k?,t?)*cc?CC(i?) = S(max_(k,i),t*cc(i));\n",
    "endargument;\n",
    "\n",
    "id Comm(S(k1?$k1max,t1?),S(k2?$k2max,t2?)) = Comm(S(k1,t1),S(k2,t2));\n",
    "$kmax = 2*$k1max + 2*$k2max;\n",
    "\n",
    "id Comm(S(n1?,a1?),S(n2?,a2?)) = Comm(a1,a2) + \n",
    "    sum_(i,1,n2-1,Comm(S(i,1)*a1,a2)) +\n",
    "    sum_(i,1,n1-1,Comm(a1,S(i,1)*a2));\n",
    "argument Comm;\n",
    "    repeat id S(i?,t?)*cc?CC(j?) = S(i,t*cc(i+j));\n",
    "    id S(i?,a?) = a;\n",
    "endargument;\n",
    "\n",
    "*--- multiply ---\n",
    "id Comm(a?,b?) = S(a)*b-S(b)*a;\n",
    "label repeat;\n",
    "    id ifnomatch->endrepeat S(a?)*cc?CC[n](i?) = S(a*SC[n](i));\n",
    "    argument;\n",
    "*        id cc?CC(i?)*sc?SC(i?) = 1;\n",
    "'''+rules+\n",
    "'''\n",
    "        id sc?SC[n?](i?) = CC[n](i);\n",
    "        label endarg;\n",
    "    endargument;\n",
    "goto repeat;\n",
    "label endrepeat;\n",
    "id S(a?) = a;\n",
    ".sort\n",
    "\n",
    "*--- trim ---\n",
    "if(match(cc?CC(i?)));\n",
    "    multiply S($kmax,1);\n",
    "    repeat id S(n?,t?)*cc?CC(i?) = S(min_(n,i),t*cc(i));\n",
    "    id ifmatch->endif S(1,t?) = t;\n",
    "        id S(n?,t?) = S(n-1,1)*t;\n",
    "        repeat id S(n?,t?)*cc?CC(i?) = S(n,t*cc(i-n));\n",
    "        id S(n?,t?) = t;\n",
    "    label endif;\n",
    "endif;\n",
    "\n",
    "Print;\n",
    ".sort\n",
    "''')\n",
    "print(re.sub(r'\\+','\\n+',f.read('C')))\n",
    "#f.read('C')"
   ]
  },
  {
   "cell_type": "code",
   "execution_count": 4,
   "id": "afde8030",
   "metadata": {},
   "outputs": [],
   "source": [
    "procedures = '''\n",
    "cfun   cx,cy,cz,cc; *cten\n",
    "set CC:cx,cy,cz;\n",
    "nfun   sx,sy,sz,sc;\n",
    "set SC:sx,sy,sz;\n",
    "Function S,Comm;\n",
    "cfun koef;\n",
    "auto Symbols a,b,t;\n",
    "auto Symbol n,i,j,k; * indices\n",
    "\n",
    "*--- overlapping ---\n",
    "#procedure overlapping\n",
    "    argument Comm;\n",
    "        multiply S(1,1);\n",
    "        repeat id S(k?,t?)*cc?CC(i?) = S(max_(k,i),t*cc(i));\n",
    "    endargument;\n",
    "    id Comm(a?,b?) = a*b;\n",
    "    id S(?ss1)*S(?ss2) = Comm(S(?ss1),S(?ss2));\n",
    "    id Comm(S(n1?,a1?),S(n2?,a2?)) = Comm(a1,a2) + \n",
    "        sum_(i,1,n2-1,Comm(S(i,1)*a1,a2)) +\n",
    "        sum_(i,1,n1-1,Comm(a1,S(i,1)*a2));\n",
    "    argument Comm;\n",
    "        repeat id S(i?,t?)*cc?CC(j?) = S(i,t*cc(i+j));\n",
    "        id S(i?,a?) = a;\n",
    "    endargument;\n",
    "#endprocedure\n",
    "\n",
    "*id Comm(a?,b?) = S(a)*b-S(b)*a;\n",
    "*--- multiply ---\n",
    "#procedure multiply\n",
    "    label repeat;\n",
    "        id ifnomatch->endrepeat S(a?)*cc?CC[n](i?) = S(a*SC[n](i));\n",
    "        argument S;\n",
    "*        id cc?CC(i?)*sc?SC(i?) = 1;\n",
    "    '''+rules+'''\n",
    "            id sc?SC[n?](i?) = CC[n](i);\n",
    "            label endarg;\n",
    "        endargument;\n",
    "    goto repeat;\n",
    "    label endrepeat;\n",
    "    id S(a?) = a;\n",
    "#endprocedure\n",
    "*.sort\n",
    "\n",
    "*--- trim ---\n",
    "#procedure trim\n",
    "    if(match(cc?CC(i?)));\n",
    "        multiply S(1000000,1);\n",
    "        repeat id S(n?,t?)*cc?CC(i?) = S(min_(n,i),t*cc(i));\n",
    "        id ifmatch->endif S(1,t?) = t;\n",
    "            id S(n?,t?) = S(n-1,1)*t;\n",
    "            repeat id S(n?,t?)*cc?CC(i?) = S(n,t*cc(i-n));\n",
    "            id S(n?,t?) = t;\n",
    "        label endif;\n",
    "    endif;\n",
    "#endprocedure\n",
    "'''"
   ]
  },
  {
   "cell_type": "code",
   "execution_count": 5,
   "id": "38a3704e",
   "metadata": {},
   "outputs": [
    {
     "name": "stdout",
     "output_type": "stream",
     "text": [
      "0\n",
      "0\n",
      "0\n",
      "0\n",
      "0\n"
     ]
    }
   ],
   "source": [
    "f.close()\n",
    "f = form.open(\"form -l\",keep_log=100)\n",
    "f.write('''\n",
    "on stats;\n",
    "Sym h,J;\n",
    "\n",
    "*cfun koef;\n",
    "*polyfun koef;\n",
    "\n",
    "S n,n1,n2,x;\n",
    "Table ident(x?);  Fill ident() = x;\n",
    "Table prod(n?symbol_,n1?int_,n2?int_,x?);\n",
    "Fill prod() =\n",
    "  + theta_(n2-n1) * prod(n,n1,n2-1,x) * ident(x * replace_(n,n2))\n",
    "  + thetap_(n1-n2)\n",
    ";\n",
    "\n",
    "S x,y,z;\n",
    "Table if(x?int_,y?,z?);\n",
    "Fill if() = deltap_(x)*y+delta_(x)*z;\n",
    "'''+procedures+\n",
    "'''\n",
    "\n",
    "Table X(n?); Fill X() = cx(1)*prod(i,2,n,cz(i))*cx(n+1);\n",
    "Table Y(n?); Fill Y() = if(thetap_(n),cy(1)*prod(i,2,n,cz(i))*cy(n+1),-cz(1));\n",
    "Table M(n?); Fill M() = if(thetap_(n),\n",
    "    (cx(1)*prod(i,2,n,cz(i))*cy(n+1)+cy(1)*prod(i,2,n,cz(i))*cx(n+1))/2,\n",
    "    0);\n",
    "Table Im(n?); Fill Im() = if(thetap_(n),\n",
    "    (cx(1)*prod(i,2,n,cz(i))*cy(n+1)-cy(1)*prod(i,2,n,cz(i))*cx(n+1))/2,\n",
    "    0);\n",
    "Table Ip(n); Fill Ip() = h*X(n) + h*Y(n) - X(n)*replace_(n,n+1) - Y(n)*replace_(n,n-1);\n",
    ".global\n",
    "G H = -J*cx(1)*cx(2)-J*h*cz(1);\n",
    ".store\n",
    "\n",
    "#define N \"50\"\n",
    "L HIp1 = Comm(H,Ip(`N'));\n",
    "L HIm1 = Comm(H,Im(`N'));\n",
    "L HX1   = i_*Comm(H,X(`N')) - 4*J*h*M(`N') + 4*J*M(`N'-1);\n",
    "L HY1   = i_*Comm(H,Y(`N')) + 4*J*h*M(`N') - 4*J*M(`N'+1);\n",
    "L HM1   = i_*Comm(H,M(`N'))  +2*J*h*X(`N') - 2*J*h*Y(`N') - 2*J*X(`N'+1) + 2*J*Y(`N'-1);\n",
    "\n",
    "\n",
    "#call overlapping\n",
    "id Comm(a?,b?) = S(a)*b-S(b)*a;\n",
    "#call multiply\n",
    ".sort\n",
    "#call trim\n",
    "\n",
    ".sort\n",
    "''')\n",
    "\n",
    "print(f.read('HIp1'))\n",
    "print(f.read('HIm1'))\n",
    "print(f.read('HX1'))\n",
    "print(f.read('HY1'))\n",
    "print(f.read('HM1'))\n"
   ]
  },
  {
   "cell_type": "code",
   "execution_count": 6,
   "id": "ed92a89d",
   "metadata": {
    "scrolled": false
   },
   "outputs": [
    {
     "name": "stdout",
     "output_type": "stream",
     "text": [
      "cx(1)*cy(4)*cz(2)*i_*koef(2)\n",
      "+cx(2)*cy(1)*cz(3)*i_*koef(2)\n",
      "+cx(2)*cy(3)*cz(1)*i_*koef(2)\n",
      "+cx(4)*cy(1)*cz(3)*i_*koef(2)\n"
     ]
    }
   ],
   "source": [
    "f.close()\n",
    "f = form.open(\"form -l\",keep_log=100)\n",
    "f.write('''\n",
    "on stats;\n",
    "'''+procedures+\n",
    "'''\n",
    "polyfun koef;\n",
    "\n",
    "Local C = Comm(cx(1)*cx(2),cy(1)*cy(3));\n",
    "\n",
    "#call overlapping\n",
    "id Comm(a?,b?) = S(a)*b-S(b)*a;\n",
    "#call multiply\n",
    ".sort\n",
    "#call trim\n",
    "\n",
    "Print;\n",
    ".sort\n",
    "''')\n",
    "print(re.sub(r'\\+','\\n+',f.read('C')))\n",
    "#f.read('C')"
   ]
  },
  {
   "cell_type": "code",
   "execution_count": 24,
   "id": "f0f0d9b4",
   "metadata": {
    "scrolled": false
   },
   "outputs": [
    {
     "name": "stdout",
     "output_type": "stream",
     "text": [
      "0\n",
      "0\n",
      "0\n",
      "0\n",
      "0\n"
     ]
    }
   ],
   "source": [
    "f.close()\n",
    "f = form.open(\"form -l\",keep_log=100)\n",
    "f.write('''\n",
    "on stats;\n",
    "cfun if;\n",
    "Sym h,J;\n",
    "\n",
    "*cfun koef;\n",
    "*polyfun koef;\n",
    "\n",
    "'''+procedures+\n",
    "'''\n",
    ".global\n",
    "\n",
    "G X(n) = cx(1)*S(sum_(i,2,n,cz(i)))*cx(n+1);\n",
    "G Y(n) = if(thetap_(n),cy(1)*S(sum_(i,2,n,cz(i)))*cy(n+1),-cz(1));\n",
    "G M(n) = if(thetap_(n),\n",
    "    (cx(1)*S(sum_(i,2,n,cz(i)))*cy(n+1)+cy(1)*S(sum_(i,2,n,cz(i)))*cx(n+1))/2,\n",
    "    0);\n",
    "G Im(n) = if(thetap_(n),\n",
    "    (cx(1)*S(sum_(i,2,n,cz(i)))*cy(n+1)-cy(1)*S(sum_(i,2,n,cz(i)))*cx(n+1))/2,\n",
    "    0);\n",
    ".store\n",
    "G Ip(n) = h*X(n) + h*Y(n) - X(n)*replace_(n,n+1) - Y(n)*replace_(n,n-1);\n",
    "G H = -J*cx(1)*cx(2)-J*h*cz(1);\n",
    ".store\n",
    "\n",
    "L HIp1 = Comm(H,Ip(n));\n",
    "L HIm1 = Comm(H,Im(n));\n",
    "L HX1   = i_*Comm(H,X(n)) - 4*J*h*M(n) + 4*J*M(n)*replace_(n,n-1);\n",
    "L HY1   = i_*Comm(H,Y(n)) + 4*J*h*M(n) - 4*J*M(n)*replace_(n,n+1);\n",
    "L HM1   = i_*Comm(H,M(n))  +2*J*h*X(n) - 2*J*h*Y(n) - \n",
    "                            2*J*X(n)*replace_(n,n+1) + 2*J*Y(n)*replace_(n,n-1);\n",
    "\n",
    "\n",
    "#procedure replace(n)\n",
    "    argument if,1;\n",
    "        mul replace_(n,`n');\n",
    "    endargument;\n",
    "    id if(1,a?,b?) = a;\n",
    "    id if(0,a?,b?) = b;\n",
    "    argument S;\n",
    "        mul replace_(n,`n');\n",
    "    endargument;\n",
    "    id S(0) = 1;\n",
    "    splitarg S;\n",
    "    transform S,mulargs(1,last);\n",
    "    mul replace_(n,`n');\n",
    "    id S(a?) = a;\n",
    "#endprocedure\n",
    "\n",
    "argument Comm;\n",
    "#call replace(15)*<---\n",
    "endargument;\n",
    "#call replace(15)*<---\n",
    "\n",
    "splitarg Comm,1;\n",
    "repeat;\n",
    "id Comm(a?,a1?,?centr,b?) = Comm(a,b) + Comm(a1,?centr,b);\n",
    "id Comm(a?,a1?,b?) = Comm(a,b)+Comm(a1,b);\n",
    "endrepeat;\n",
    "splitarg Comm,2;\n",
    "repeat;\n",
    "id Comm(a?,?centr,b1?,b?) = Comm(a,b) + Comm(a,?centr,b1);\n",
    "id Comm(a?,b1?,b?) = Comm(a,b)+Comm(a,b1);\n",
    "endrepeat;\n",
    "\n",
    "\n",
    "#call overlapping\n",
    "id Comm(a?,b?) = S(a)*b-S(b)*a;\n",
    "#call multiply\n",
    ".sort\n",
    "#call trim\n",
    "\n",
    "\n",
    "Print;\n",
    ".sort\n",
    "''')\n",
    "\n",
    "print(f.read('HIp1'))\n",
    "print(f.read('HIm1'))\n",
    "print(f.read('HX1'))\n",
    "print(f.read('HY1'))\n",
    "print(f.read('HM1'))\n"
   ]
  },
  {
   "cell_type": "code",
   "execution_count": 12,
   "id": "fca64d46",
   "metadata": {},
   "outputs": [
    {
     "data": {
      "text/plain": [
       "'S(f(1)+f(2)+f(3)+f(4)+f(5))'"
      ]
     },
     "execution_count": 12,
     "metadata": {},
     "output_type": "execute_result"
    }
   ],
   "source": [
    "f.close()\n",
    "f = form.open(\"form -l\",keep_log=100)\n",
    "f.write('''\n",
    "cfun f,S,sum;\n",
    "Symbol i,k,a;\n",
    "\n",
    "L L = S(sum(i,1,k,f(i)))*replace_(k,5);\n",
    "argument S;\n",
    "    id sum(?sss) = sum_(?sss);\n",
    "endargument;\n",
    "*mul replace_(k,5);\n",
    "*argument;\n",
    "*mul replace_(k,5);\n",
    "*endargument;\n",
    "*splitarg;\n",
    "*transform S,mulargs(1,last);\n",
    "*id S(k?) = k;\n",
    ".sort\n",
    "''')\n",
    "f.read('L')    "
   ]
  },
  {
   "cell_type": "code",
   "execution_count": 9,
   "id": "df8dfba3",
   "metadata": {},
   "outputs": [
    {
     "data": {
      "text/plain": [
       "'f(1)+f(2)+f(3)+f(4)+f(5)'"
      ]
     },
     "execution_count": 9,
     "metadata": {},
     "output_type": "execute_result"
    }
   ],
   "source": [
    "f.close()\n",
    "f = form.open(\"form -l\",keep_log=100)\n",
    "f.write('''\n",
    "cfun f;\n",
    "Symbol a,i,k;\n",
    ".global\n",
    "G G(k) = sum_(i,1,k,f(i));\n",
    ".store\n",
    "\n",
    "L L = G(a);\n",
    "argument;\n",
    "    id a=5;\n",
    "endargument;\n",
    ".sort\n",
    "''')\n",
    "f.read('L')    "
   ]
  },
  {
   "cell_type": "code",
   "execution_count": 10,
   "id": "1f8e04b9",
   "metadata": {},
   "outputs": [
    {
     "data": {
      "text/plain": [
       "'f(1)+f(2)+f(3)+f(4)+f(5)'"
      ]
     },
     "execution_count": 10,
     "metadata": {},
     "output_type": "execute_result"
    }
   ],
   "source": [
    "f.close()\n",
    "f = form.open(\"form -l\",keep_log=100)\n",
    "f.write('''\n",
    "cfun f;\n",
    "auto Symbols a,b;\n",
    "auto Symbol n,i,j,k;\n",
    "\n",
    "L L = sum_(i,1,k,f(i));\n",
    ".sort\n",
    "mul replace_(k,5);\n",
    "\n",
    ".sort\n",
    "''')\n",
    "f.read('L')    "
   ]
  },
  {
   "cell_type": "code",
   "execution_count": 2,
   "id": "9e12a6f9",
   "metadata": {},
   "outputs": [
    {
     "data": {
      "text/plain": [
       "'f(x,y,a,z)'"
      ]
     },
     "execution_count": 2,
     "metadata": {},
     "output_type": "execute_result"
    }
   ],
   "source": [
    "f.close()\n",
    "f = form.open(\"form -l\",keep_log=100)\n",
    "f.write('''\n",
    "f f;\n",
    "s x,y,z,a;\n",
    "l l = f(y,x,z,a);\n",
    "rcyclesymmetrize f;\n",
    ".sort\n",
    "''')\n",
    "f.read('l')"
   ]
  },
  {
   "cell_type": "code",
   "execution_count": 97,
   "id": "d28b0cda",
   "metadata": {},
   "outputs": [
    {
     "data": {
      "text/plain": [
       "'Comm(a1,b1)+Comm(a2,b1)+Comm(a3,b1)+Comm(a4,b1)+Comm(a5,b1)'"
      ]
     },
     "execution_count": 97,
     "metadata": {},
     "output_type": "execute_result"
    }
   ],
   "source": [
    "f.close()\n",
    "f = form.open(\"form -l\",keep_log=100)\n",
    "f.write('''\n",
    "auto s a,b,c;\n",
    "CF Comm;\n",
    "L L = Comm(a1+a2+a3+a4+a5,b1);\n",
    "\n",
    "splitarg Comm,1;\n",
    "repeat;\n",
    "id Comm(a?,a1?,?centr,b?) = Comm(a,b) + Comm(a1,?centr,b);\n",
    "id Comm(a?,a1?,b?) = Comm(a,b)+Comm(a1,b);\n",
    "endrepeat;\n",
    "splitarg Comm,2;\n",
    "repeat;\n",
    "id Comm(a?,?centr,b1?,b?) = Comm(a,b) + Comm(a,?centr,b1);\n",
    "id Comm(a?,b1?,b?) = Comm(a,b)+Comm(a,b1);\n",
    "endrepeat;\n",
    "\n",
    ".sort\n",
    "''')\n",
    "f.read('L')"
   ]
  },
  {
   "cell_type": "code",
   "execution_count": 140,
   "id": "df879be0",
   "metadata": {},
   "outputs": [
    {
     "data": {
      "text/plain": [
       "'-Comm(b1)*S(a5+a4+a3+a2+a1)'"
      ]
     },
     "execution_count": 140,
     "metadata": {},
     "output_type": "execute_result"
    }
   ],
   "source": [
    "f.close()\n",
    "f = form.open(\"form -l\",keep_log=100)\n",
    "f.write('''\n",
    "auto s a,b,c;\n",
    "CF Comm,S;\n",
    "L L = Comm(-S(a1+a2+a3+a4+a5),b1);\n",
    "\n",
    "id Comm(a?,b?) = a*Comm(b);\n",
    "\n",
    ".sort\n",
    "''')\n",
    "f.read('L')"
   ]
  },
  {
   "cell_type": "code",
   "execution_count": null,
   "id": "2ed5abb4",
   "metadata": {},
   "outputs": [],
   "source": []
  }
 ],
 "metadata": {
  "kernelspec": {
   "display_name": "Python 3",
   "language": "python",
   "name": "python3"
  },
  "language_info": {
   "codemirror_mode": {
    "name": "ipython",
    "version": 3
   },
   "file_extension": ".py",
   "mimetype": "text/x-python",
   "name": "python",
   "nbconvert_exporter": "python",
   "pygments_lexer": "ipython3",
   "version": "3.8.10"
  }
 },
 "nbformat": 4,
 "nbformat_minor": 5
}
