{
 "cells": [
  {
   "cell_type": "code",
   "execution_count": 1,
   "id": "58abe6f4",
   "metadata": {},
   "outputs": [],
   "source": [
    "import form\n",
    "f = form.open()"
   ]
  },
  {
   "cell_type": "code",
   "execution_count": 2,
   "id": "87d909e6",
   "metadata": {},
   "outputs": [],
   "source": [
    "def overlapping(nl,nr):\n",
    "    lq = ['a'+str(i)+'?' for i in range(nl)];\n",
    "    l  = ['a'+str(i)     for i in range(nl)];\n",
    "    rq = ['b'+str(i)+'?' for i in range(nr)];\n",
    "    r  = ['b'+str(i)     for i in range(nr)];\n",
    "    if nl==0:   return 'id S()*S('+','.join(rq)+') = S('+','.join(r)+');'\n",
    "    if nr==0:   return 'id S('+','.join(lq)+')*S() = S('+','.join(l)+');'\n",
    "    if nl>=nr:\n",
    "        rez=[]\n",
    "        rez.append('0')\n",
    "        for i in range(1,nr):\n",
    "            rez.append('S('+','.join(r[:-i]+[l[j]+'*'+r[j-i] for j in range(i)]+l[i:])+')')\n",
    "        rez.append('0')\n",
    "        for i in range(nl-nr+1):\n",
    "            rez.append('S('+','.join(l[:i]+[l[j+i]+'*'+r[j] for j in range(nr)]+l[nr+i:])+')')\n",
    "        rez.append('0')\n",
    "        for i in range(1,nr):\n",
    "            rez.append('S('+','.join(l[:-i]+[l[j-i]+'*'+r[j] for j in range(i)]+r[i:])+')')\n",
    "        return 'id S('+','.join(lq)+')*S('+','.join(rq)+') = '+'+'.join(rez)+';'\n",
    "    else:\n",
    "        rez=[]\n",
    "        for i in range(1,nl):\n",
    "            rez.append('S('+','.join(l[:-i]+[l[j-i]+'*'+r[j] for j in range(i)]+r[i:])+')')\n",
    "        rez.append('0')\n",
    "        for i in range(nr-nl+1):\n",
    "            rez.append('S('+','.join(r[:i]+[l[j]+'*'+r[j+i] for j in range(nl)]+r[nl+i:])+')')\n",
    "        rez.append('0')\n",
    "        for i in range(1,nl):\n",
    "            rez.append('S('+','.join(r[:-i]+[l[j]+'*'+r[j-i] for j in range(i)]+l[i:])+')')\n",
    "        rez.append('0')\n",
    "        return 'id S('+','.join(lq)+')*S('+','.join(rq)+') = '+'+'.join(rez)+';'\n"
   ]
  },
  {
   "cell_type": "code",
   "execution_count": 3,
   "id": "085a4243",
   "metadata": {},
   "outputs": [
    {
     "data": {
      "text/plain": [
       "'id Id*Id = 1*Id;id Id*cx = 1*cx;id Id*cy = 1*cy;id Id*cz = 1*cz;id cx*Id = 1*cx;id cx*cx = 1*Id;id cx*cy = i_*cz;id cx*cz = -i_*cy;id cy*Id = 1*cy;id cy*cx = -i_*cz;id cy*cy = 1*Id;id cy*cz = i_*cx;id cz*Id = 1*cz;id cz*cx = i_*cy;id cz*cy = -i_*cx;id cz*cz = 1*Id;'"
      ]
     },
     "execution_count": 3,
     "metadata": {},
     "output_type": "execute_result"
    }
   ],
   "source": [
    "k = [[\"1\", \"1\", \"1\", \"1\"], \n",
    "     [\"1\", \"1\", \"i_\", \"-i_\"], \n",
    "     [\"1\", \"-i_\", \"1\", \"i_\"], \n",
    "     [\"1\", \"i_\", \"-i_\", \"1\"]]\n",
    "\n",
    "\n",
    "n = [[\"Id\", \"cx\", \"cy\", \"cz\"], \n",
    "     [\"cx\", \"Id\", \"cz\", \"cy\"], \n",
    "     [\"cy\", \"cz\", \"Id\", \"cx\"], \n",
    "     [\"cz\", \"cy\", \"cx\", \"Id\"]]\n",
    "\n",
    "c = [\"Id\",\"cx\",\"cy\",\"cz\"]\n",
    "rules = ''.join('id '+c[i]+'*'+c[j]+' = '+k[i][j]+'*'+str(n[j][i])+';' \n",
    "       for i in range(4) for j in range(4))\n",
    "#for i in range(4):\n",
    "#    print()\n",
    "#    for j in range(4):\n",
    "#        print('id m'+str(i)+'*m'+str(j)+' = '\\\n",
    "#              +k[i][j]+'*'+str(n[j][i])+';')\n",
    "rules"
   ]
  },
  {
   "cell_type": "code",
   "execution_count": 4,
   "id": "09f9c233",
   "metadata": {},
   "outputs": [],
   "source": [
    "def X(n):\n",
    "    return 'S('+','.join(['cx']+['cz']*(n-1)+['cx'])+')'\n",
    "def Y(n):\n",
    "    if   n==0: return '(-S(cz))'\n",
    "    else:      return 'S('+','.join(['cy']+['cz']*(n-1)+['cy'])+')'\n",
    "def M(n):\n",
    "    if   n==0: return '0'\n",
    "    else:      return '(S('+','.join(['cx']+['cz']*(n-1)+['cy'])+')/2 + '+\\\n",
    "                      'S('+','.join(['cy']+['cz']*(n-1)+['cx'])+')/2)'\n",
    "def Imin(n):\n",
    "    return '(S('+','.join(['cx']+['cz']*(n-1)+['cy'])+')/2 -'+\\\n",
    "           'S('+','.join(['cy']+['cz']*(n-1)+['cx'])+')/2)'\n",
    "def Ipl(n):\n",
    "    return '(h*'+X(n) +' +h*'+Y(n) +' -'+X(n+1) +' -'+Y(n-1)+')'"
   ]
  },
  {
   "cell_type": "code",
   "execution_count": 5,
   "id": "b1066601",
   "metadata": {},
   "outputs": [
    {
     "name": "stdout",
     "output_type": "stream",
     "text": [
      "S(cx,cx)\n",
      "S(cx,cz,cx)\n",
      "S(cx,cz,cz,cx)\n",
      "(-S(cz))\n",
      "S(cy,cy)\n",
      "S(cy,cz,cy)\n",
      "S(cy,cz,cz,cy)\n",
      "0\n",
      "(S(cx,cy)/2 + S(cy,cx)/2)\n",
      "(S(cx,cz,cy)/2 + S(cy,cz,cx)/2)\n",
      "(S(cx,cz,cz,cy)/2 + S(cy,cz,cz,cx)/2)\n",
      "(S(cx,cy)/2 -S(cy,cx)/2)\n",
      "(S(cx,cy)/2 -S(cy,cx)/2)\n",
      "(S(cx,cz,cy)/2 -S(cy,cz,cx)/2)\n",
      "(S(cx,cz,cz,cy)/2 -S(cy,cz,cz,cx)/2)\n",
      "(h*S(cx,cx) +h*S(cy,cy) -S(cx,cz,cx) -(-S(cz)))\n",
      "(h*S(cx,cz,cx) +h*S(cy,cz,cy) -S(cx,cz,cz,cx) -S(cy,cy))\n",
      "(h*S(cx,cz,cz,cx) +h*S(cy,cz,cz,cy) -S(cx,cz,cz,cz,cx) -S(cy,cz,cy))\n"
     ]
    }
   ],
   "source": [
    "print(X(1))\n",
    "print(X(2))\n",
    "print(X(3))\n",
    "print(Y(0))\n",
    "print(Y(1))\n",
    "print(Y(2))\n",
    "print(Y(3))\n",
    "print(M(0))\n",
    "print(M(1))\n",
    "print(M(2))\n",
    "print(M(3))\n",
    "print(Imin(0))\n",
    "print(Imin(1))\n",
    "print(Imin(2))\n",
    "print(Imin(3))\n",
    "print(Ipl(1))\n",
    "print(Ipl(2))\n",
    "print(Ipl(3))\n"
   ]
  },
  {
   "cell_type": "code",
   "execution_count": 9,
   "id": "5136919d",
   "metadata": {},
   "outputs": [
    {
     "name": "stdout",
     "output_type": "stream",
     "text": [
      "1 -1/2*S(cx,cx)*S(cx,cy)*J+1/2*S(cx,cx)*S(cy,cx)*J-1/2*S(cz)*S(cx,cy)*J*h+1/2*S(cz)*S(cy,cx)*J*h\n"
     ]
    }
   ],
   "source": [
    "f.close()\n",
    "f = form.open()\n",
    "f.write('''\n",
    "auto Symbols a,b;\n",
    "Function S;\n",
    "cFun den;\n",
    "auto nTen m,n;\n",
    "nten Id,cx,cy,cz;\n",
    "set ops: Id,cx,cy,cz;\n",
    "set ms: m0,...,m3;\n",
    "sym k,J,h,NN;\n",
    "Fun Commute;\n",
    "\n",
    "Local H = -J*S(cx,cx)-J*h*S(cz);\n",
    "'''+\n",
    "''.join('Local [H,Ipl('+str(n)+')] = Commute(H,'+Ipl(n)+');' for n in range(1,20))+\n",
    "''.join('Local [H,Imin('+str(n)+')] = Commute(H,'+Imin(n)+');' for n in range(1,20))+\n",
    "''.join('Local [H,X('+str(n)+')-..] = i_*Commute(H,'+X(n)+') - 4*J*h*'+M(n)+'+4*J*'+M(n-1)+';' \n",
    "        for n in range(1,20))+\n",
    "''.join('Local [H,Y('+str(n)+')-..] = i_*Commute(H,'+Y(n)+') + 4*J*h*'+M(n)+'-4*J*'+M(n+1)+';' \n",
    "        for n in range(1,20))+\n",
    "''.join('Local [H,M('+str(n)+')-..] = i_*Commute(H,'+M(n)+') '+\n",
    "        ' +2*J*h*'+X(n)+' -2*J*h*'+Y(n)+' -2*J*'+X(n+1)+' +2*J*'+Y(n-1)+';' \n",
    "        for n in range(1,20))+\n",
    "'''\n",
    "\n",
    "id Commute(a?,b?) = a*b;* - b*a;\n",
    "'''+\n",
    "#''.join(overlapping(i,j) for i in range(22) for j in range(22))+\n",
    "'''\n",
    "*argument;\n",
    "'''+#rules+\n",
    "'''\n",
    "*endargument;\n",
    "*repeat id S(a?,?l) = a*S(?l);\n",
    "*repeat id m?*S(?l) = S(m,?l);\n",
    "*repeat id S(Id,?l) = S(?l);\n",
    "*repeat id S(?l,Id) = S(?l);\n",
    "\n",
    "\n",
    ".sort\n",
    "''')\n",
    "#print(1,f.read('[H,Ipl(1)]'))\n",
    "#print(2,f.read('[H,Ipl(2)]'))\n",
    "#print(3,f.read('[H,Ipl(3)]'))\n",
    "#print(4,f.read('[H,Ipl(4)]'))\n",
    "#print(5,f.read('[H,Ipl(5)]'))\n",
    "#print(6,f.read('[H,Ipl(6)]'))\n",
    "#print(7,f.read('[H,Ipl(7)]'))\n",
    "#print(8,f.read('[H,Ipl(8)]'))\n",
    "#print()\n",
    "print(1,f.read('[H,Imin(1)]'))\n",
    "#print(2,f.read('[H,Imin(2)]'))\n",
    "#print(3,f.read('[H,Imin(3)]'))\n",
    "#print(4,f.read('[H,Imin(4)]'))\n",
    "#print(5,f.read('[H,Imin(5)]'))\n",
    "#print(6,f.read('[H,Imin(6)]'))\n",
    "#print(7,f.read('[H,Imin(7)]'))\n",
    "#print(8,f.read('[H,Imin(8)]'))\n",
    "#print()\n",
    "#print(4,f.read('[H,X(4)-..]'))\n",
    "#print()\n",
    "#print(18,f.read('[H,Y(18)-..]'))\n",
    "#print()\n",
    "#print(4,f.read('[H,M(4)-..]'))"
   ]
  },
  {
   "cell_type": "code",
   "execution_count": null,
   "id": "1f86ea07",
   "metadata": {},
   "outputs": [],
   "source": []
  },
  {
   "cell_type": "code",
   "execution_count": null,
   "id": "07c3c9b1",
   "metadata": {},
   "outputs": [],
   "source": []
  }
 ],
 "metadata": {
  "kernelspec": {
   "display_name": "Python 3",
   "language": "python",
   "name": "python3"
  },
  "language_info": {
   "codemirror_mode": {
    "name": "ipython",
    "version": 3
   },
   "file_extension": ".py",
   "mimetype": "text/x-python",
   "name": "python",
   "nbconvert_exporter": "python",
   "pygments_lexer": "ipython3",
   "version": "3.8.9"
  }
 },
 "nbformat": 4,
 "nbformat_minor": 5
}
